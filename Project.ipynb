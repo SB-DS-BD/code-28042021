{
 "cells": [
  {
   "cell_type": "markdown",
   "metadata": {},
   "source": [
    "# Python BMI Calculator Coding Challenge"
   ]
  },
  {
   "cell_type": "code",
   "execution_count": 1,
   "metadata": {},
   "outputs": [],
   "source": [
    "# Importing python librery\n",
    "import pandas as pd"
   ]
  },
  {
   "cell_type": "code",
   "execution_count": 2,
   "metadata": {},
   "outputs": [
    {
     "data": {
      "text/html": [
       "<div>\n",
       "<style scoped>\n",
       "    .dataframe tbody tr th:only-of-type {\n",
       "        vertical-align: middle;\n",
       "    }\n",
       "\n",
       "    .dataframe tbody tr th {\n",
       "        vertical-align: top;\n",
       "    }\n",
       "\n",
       "    .dataframe thead th {\n",
       "        text-align: right;\n",
       "    }\n",
       "</style>\n",
       "<table border=\"1\" class=\"dataframe\">\n",
       "  <thead>\n",
       "    <tr style=\"text-align: right;\">\n",
       "      <th></th>\n",
       "      <th>Gender</th>\n",
       "      <th>HeightCm</th>\n",
       "      <th>WeightKg</th>\n",
       "    </tr>\n",
       "  </thead>\n",
       "  <tbody>\n",
       "    <tr>\n",
       "      <th>0</th>\n",
       "      <td>Male</td>\n",
       "      <td>171</td>\n",
       "      <td>96</td>\n",
       "    </tr>\n",
       "    <tr>\n",
       "      <th>1</th>\n",
       "      <td>Male</td>\n",
       "      <td>161</td>\n",
       "      <td>85</td>\n",
       "    </tr>\n",
       "    <tr>\n",
       "      <th>2</th>\n",
       "      <td>Male</td>\n",
       "      <td>180</td>\n",
       "      <td>77</td>\n",
       "    </tr>\n",
       "    <tr>\n",
       "      <th>3</th>\n",
       "      <td>Female</td>\n",
       "      <td>166</td>\n",
       "      <td>62</td>\n",
       "    </tr>\n",
       "    <tr>\n",
       "      <th>4</th>\n",
       "      <td>Female</td>\n",
       "      <td>150</td>\n",
       "      <td>70</td>\n",
       "    </tr>\n",
       "    <tr>\n",
       "      <th>5</th>\n",
       "      <td>Female</td>\n",
       "      <td>167</td>\n",
       "      <td>82</td>\n",
       "    </tr>\n",
       "  </tbody>\n",
       "</table>\n",
       "</div>"
      ],
      "text/plain": [
       "   Gender  HeightCm  WeightKg\n",
       "0    Male       171        96\n",
       "1    Male       161        85\n",
       "2    Male       180        77\n",
       "3  Female       166        62\n",
       "4  Female       150        70\n",
       "5  Female       167        82"
      ]
     },
     "execution_count": 2,
     "metadata": {},
     "output_type": "execute_result"
    }
   ],
   "source": [
    "# reading json data from local system, same directory\n",
    "df=pd.read_json (r'data.json')\n",
    "df"
   ]
  },
  {
   "cell_type": "markdown",
   "metadata": {},
   "source": [
    "## Formula 1 - BMI"
   ]
  },
  {
   "cell_type": "raw",
   "metadata": {},
   "source": [
    "BMI(kg/m ) = mass(kg) / height(m)\n",
    "The BMI (Body Mass Index) in (kg/m2 ) is equal to the weight in kilograms (kg) divided by your height in meters squared (m)2\n",
    "Example: if you are 175cm (1.75m) in height and 75kg in weight, you can calculate your BMI as follows: 75kg / (1.75m2) = 24.49kg/m2"
   ]
  },
  {
   "cell_type": "code",
   "execution_count": 3,
   "metadata": {},
   "outputs": [
    {
     "data": {
      "text/html": [
       "<div>\n",
       "<style scoped>\n",
       "    .dataframe tbody tr th:only-of-type {\n",
       "        vertical-align: middle;\n",
       "    }\n",
       "\n",
       "    .dataframe tbody tr th {\n",
       "        vertical-align: top;\n",
       "    }\n",
       "\n",
       "    .dataframe thead th {\n",
       "        text-align: right;\n",
       "    }\n",
       "</style>\n",
       "<table border=\"1\" class=\"dataframe\">\n",
       "  <thead>\n",
       "    <tr style=\"text-align: right;\">\n",
       "      <th></th>\n",
       "      <th>Gender</th>\n",
       "      <th>HeightCm</th>\n",
       "      <th>WeightKg</th>\n",
       "      <th>Heightm</th>\n",
       "    </tr>\n",
       "  </thead>\n",
       "  <tbody>\n",
       "    <tr>\n",
       "      <th>0</th>\n",
       "      <td>Male</td>\n",
       "      <td>171</td>\n",
       "      <td>96</td>\n",
       "      <td>1.71</td>\n",
       "    </tr>\n",
       "    <tr>\n",
       "      <th>1</th>\n",
       "      <td>Male</td>\n",
       "      <td>161</td>\n",
       "      <td>85</td>\n",
       "      <td>1.61</td>\n",
       "    </tr>\n",
       "    <tr>\n",
       "      <th>2</th>\n",
       "      <td>Male</td>\n",
       "      <td>180</td>\n",
       "      <td>77</td>\n",
       "      <td>1.80</td>\n",
       "    </tr>\n",
       "    <tr>\n",
       "      <th>3</th>\n",
       "      <td>Female</td>\n",
       "      <td>166</td>\n",
       "      <td>62</td>\n",
       "      <td>1.66</td>\n",
       "    </tr>\n",
       "    <tr>\n",
       "      <th>4</th>\n",
       "      <td>Female</td>\n",
       "      <td>150</td>\n",
       "      <td>70</td>\n",
       "      <td>1.50</td>\n",
       "    </tr>\n",
       "    <tr>\n",
       "      <th>5</th>\n",
       "      <td>Female</td>\n",
       "      <td>167</td>\n",
       "      <td>82</td>\n",
       "      <td>1.67</td>\n",
       "    </tr>\n",
       "  </tbody>\n",
       "</table>\n",
       "</div>"
      ],
      "text/plain": [
       "   Gender  HeightCm  WeightKg  Heightm\n",
       "0    Male       171        96     1.71\n",
       "1    Male       161        85     1.61\n",
       "2    Male       180        77     1.80\n",
       "3  Female       166        62     1.66\n",
       "4  Female       150        70     1.50\n",
       "5  Female       167        82     1.67"
      ]
     },
     "execution_count": 3,
     "metadata": {},
     "output_type": "execute_result"
    }
   ],
   "source": [
    "# creating one extra column (Heightm) based on HeightCm\n",
    "# as per formula 1\n",
    "df[\"Heightm\"]=df[\"HeightCm\"]/100\n",
    "df"
   ]
  },
  {
   "cell_type": "markdown",
   "metadata": {},
   "source": [
    "## Table 1 - BMI Category and the Health Risk."
   ]
  },
  {
   "cell_type": "raw",
   "metadata": {},
   "source": [
    "BMI Category          Challenge BMI Range (kg/m2)          Health risk           \n",
    "\n",
    "Underweight               18.4 and below                   Malnutrition risk\n",
    "Normal weight             18.5 - 24.9                      Low risk\n",
    "Overweight                25 - 29.9                        Enhanced risk\n",
    "Moderately obese          30 - 34.9                        Medium risk  \n",
    "Severely obese            35 - 39.9                        High risk\n",
    "Very severely obese       40 and above                     Very high risk"
   ]
  },
  {
   "cell_type": "code",
   "execution_count": 4,
   "metadata": {},
   "outputs": [],
   "source": [
    "# creating an empty list for storing the result\n",
    "lst=[]\n",
    "# BodyMassIndex function for the application\n",
    "def BodyMassIndex(weight, height):\n",
    "    Category=''\n",
    "    risk=''\n",
    "    # BMI formula\n",
    "    bmi = round(weight/(height*height),2)\n",
    "    # checking BMI Category and Health risk based on BMI (from table 1)\n",
    "    if bmi<=18.4:\n",
    "        Category=\"Under weight\"\n",
    "        risk=\"Malnutrition risk\"\n",
    "    elif bmi>=18.5 and bmi<=24.9:\n",
    "        Category=\"Normal weight\"\n",
    "        risk=\"Low risk\"\n",
    "    elif bmi>=25 and bmi<=29.9:\n",
    "        Category=\"Over weight\"\n",
    "        risk=\"Enhanced risk\"\n",
    "    elif bmi>=30 and bmi<=34.9:\n",
    "        Category=\"Moderately obese\"\n",
    "        risk=\"Medium risk\"\n",
    "    elif bmi>=35 and bmi<=39.9:\n",
    "        Category=\"Severely obese\"\n",
    "        risk=\"High risk\"\n",
    "    else:\n",
    "        Category=\"Very Severely obese\"\n",
    "        risk=\"Very High risk\"\n",
    "    # list uapdate    \n",
    "    lst.append([bmi,Category,risk])"
   ]
  },
  {
   "cell_type": "code",
   "execution_count": 5,
   "metadata": {},
   "outputs": [],
   "source": [
    "# loop through all values of WeightKg and Heightm column\n",
    "for i in range(len(df)):\n",
    "    # BodyMassIndex function call \n",
    "    BodyMassIndex(df.loc[i,\"WeightKg\"],df.loc[i,\"Heightm\"])\n",
    "# creating 3 column-based output dataframe    \n",
    "output_df = pd.DataFrame(lst, columns = ['BMI', 'BMI Category', 'Health risk'])    "
   ]
  },
  {
   "cell_type": "code",
   "execution_count": 6,
   "metadata": {},
   "outputs": [
    {
     "data": {
      "text/html": [
       "<div>\n",
       "<style scoped>\n",
       "    .dataframe tbody tr th:only-of-type {\n",
       "        vertical-align: middle;\n",
       "    }\n",
       "\n",
       "    .dataframe tbody tr th {\n",
       "        vertical-align: top;\n",
       "    }\n",
       "\n",
       "    .dataframe thead th {\n",
       "        text-align: right;\n",
       "    }\n",
       "</style>\n",
       "<table border=\"1\" class=\"dataframe\">\n",
       "  <thead>\n",
       "    <tr style=\"text-align: right;\">\n",
       "      <th></th>\n",
       "      <th>BMI</th>\n",
       "      <th>BMI Category</th>\n",
       "      <th>Health risk</th>\n",
       "    </tr>\n",
       "  </thead>\n",
       "  <tbody>\n",
       "    <tr>\n",
       "      <th>0</th>\n",
       "      <td>32.83</td>\n",
       "      <td>Moderately obese</td>\n",
       "      <td>Medium risk</td>\n",
       "    </tr>\n",
       "    <tr>\n",
       "      <th>1</th>\n",
       "      <td>32.79</td>\n",
       "      <td>Moderately obese</td>\n",
       "      <td>Medium risk</td>\n",
       "    </tr>\n",
       "    <tr>\n",
       "      <th>2</th>\n",
       "      <td>23.77</td>\n",
       "      <td>Normal weight</td>\n",
       "      <td>Low risk</td>\n",
       "    </tr>\n",
       "    <tr>\n",
       "      <th>3</th>\n",
       "      <td>22.50</td>\n",
       "      <td>Normal weight</td>\n",
       "      <td>Low risk</td>\n",
       "    </tr>\n",
       "    <tr>\n",
       "      <th>4</th>\n",
       "      <td>31.11</td>\n",
       "      <td>Moderately obese</td>\n",
       "      <td>Medium risk</td>\n",
       "    </tr>\n",
       "    <tr>\n",
       "      <th>5</th>\n",
       "      <td>29.40</td>\n",
       "      <td>Over weight</td>\n",
       "      <td>Enhanced risk</td>\n",
       "    </tr>\n",
       "  </tbody>\n",
       "</table>\n",
       "</div>"
      ],
      "text/plain": [
       "     BMI      BMI Category    Health risk\n",
       "0  32.83  Moderately obese    Medium risk\n",
       "1  32.79  Moderately obese    Medium risk\n",
       "2  23.77     Normal weight       Low risk\n",
       "3  22.50     Normal weight       Low risk\n",
       "4  31.11  Moderately obese    Medium risk\n",
       "5  29.40       Over weight  Enhanced risk"
      ]
     },
     "execution_count": 6,
     "metadata": {},
     "output_type": "execute_result"
    }
   ],
   "source": [
    "# printing output result\n",
    "output_df"
   ]
  },
  {
   "cell_type": "markdown",
   "metadata": {},
   "source": [
    "# Done"
   ]
  }
 ],
 "metadata": {
  "kernelspec": {
   "display_name": "Python 3",
   "language": "python",
   "name": "python3"
  },
  "language_info": {
   "codemirror_mode": {
    "name": "ipython",
    "version": 3
   },
   "file_extension": ".py",
   "mimetype": "text/x-python",
   "name": "python",
   "nbconvert_exporter": "python",
   "pygments_lexer": "ipython3",
   "version": "3.7.6"
  }
 },
 "nbformat": 4,
 "nbformat_minor": 4
}
